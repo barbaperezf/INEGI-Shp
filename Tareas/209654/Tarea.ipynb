{
 "cells": [
  {
   "cell_type": "markdown",
   "id": "c0ec7815-0032-40a3-a767-34be36210b75",
   "metadata": {},
   "source": [
    "## Tarea\n",
    "Va a consistir de 4 pasos basados en lo que aprendimos de como manipular los INEGI shape files."
   ]
  },
  {
   "cell_type": "markdown",
   "id": "dd60593c-eae0-410d-b74d-2f3896ed3d26",
   "metadata": {},
   "source": [
    "## Primero\n",
    "#### Vas a escoger 5 estados y vas a graficar sus vecinos como vimos en el otro archivo. A cada uno de estos grupos los llamaremos grupos de estados.\n",
    "#### Usa el shapefile de los estados\n"
   ]
  },
  {
   "cell_type": "code",
   "execution_count": 1,
   "id": "14d3e543-4d7f-45f4-872c-326635e4804a",
   "metadata": {},
   "outputs": [],
   "source": [
    "import geopandas as gpd\n",
    "import pandas as pd\n",
    "import numpy as np\n",
    "from shapely.geometry import Point, LineString, Polygon\n",
    "from shapely.wkt import loads\n",
    "import fiona\n",
    "import matplotlib.pyplot as plt"
   ]
  },
  {
   "cell_type": "code",
   "execution_count": 2,
   "id": "a933c77e-face-46f0-ae5e-73dfa92daabb",
   "metadata": {},
   "outputs": [],
   "source": [
    "#Pon el path a tu shapefile de la carpeta de Estados que descargaste. Ejemplo:\n",
    "file_pathAShapefile_Estados = 'ShapeFilesFiles/Estados/conjunto_de_datos/00ent.shp'\n",
    "#Pon el path a tu shapefile de la carpeta de servicios_de_salud_shp que descargaste. Ejemplo:\n",
    "file_pathAShapefile_ServicioSalud = 'ShapeFilesFiles/conjunto_de_datos/denue_inegi_62_.shp'\n",
    "#Leer shapefiles que usaremos\n",
    "gdf_mexico = gpd.read_file(file_pathAShapefile_Estados)\n",
    "gdf_salud = gpd.read_file(file_pathAShapefile_ServicioSalud)"
   ]
  },
  {
   "cell_type": "code",
   "execution_count": 3,
   "id": "913490bc-5354-43cd-9b16-33ab6fa0ed54",
   "metadata": {},
   "outputs": [],
   "source": [
    "vecinos_dict = {}\n",
    "# Iterar sobre cada estado en el dataframe\n",
    "for index, row in gdf_mexico.iterrows():\n",
    "    # Obtener la geometría del estado actual\n",
    "    estado_geom = row['geometry']\n",
    "    \n",
    "    # Encontrar los estados que intersectan con el estado actual (incluye fronteras y superposiciones)\n",
    "    gdf_vecinos = gdf_mexico[gdf_mexico.geometry.intersects(estado_geom)]\n",
    "    \n",
    "    # Eliminar el estado mismo de la lista de vecinos (si se incluye)\n",
    "    gdf_vecinos = gdf_vecinos[gdf_vecinos['NOMGEO'] != row['NOMGEO']]\n",
    "    \n",
    "    # Obtener los nombres de los vecinos\n",
    "    vecinos_nombres = gdf_vecinos['NOMGEO'].tolist()\n",
    "    \n",
    "    # Almacenar en el diccionario\n",
    "    vecinos_dict[row['NOMGEO']] = vecinos_nombres\n"
   ]
  },
  {
   "cell_type": "code",
   "execution_count": 4,
   "id": "6d33469e-8a47-4c05-965d-df47badad135",
   "metadata": {},
   "outputs": [],
   "source": [
    "def plot_estado_y_vecinos(estado, gdf, vecinos_dict):\n",
    "    # Obtener la geometría del estado de interés\n",
    "    estado_geom = gdf[gdf['NOMGEO'] == estado].geometry.iloc[0]\n",
    "    \n",
    "    # Obtener los vecinos del estado desde el diccionario\n",
    "    vecinos = vecinos_dict.get(estado, [])\n",
    "    \n",
    "    # Filtrar los estados vecinos\n",
    "    gdf_vecinos = gdf[gdf['NOMGEO'].isin(vecinos)]\n",
    "    \n",
    "    # Crear una figura y un eje para el gráfico\n",
    "    fig, ax = plt.subplots(figsize=(10, 10))\n",
    "    \n",
    "    # Graficar el estado de interés con un color especial (por ejemplo, en azul)\n",
    "    gdf[gdf['NOMGEO'] == estado].plot(ax=ax, color='lightblue', edgecolor='black', label=f'{estado}')\n",
    "    \n",
    "    # Graficar los estados vecinos con otro color (por ejemplo, en verde)\n",
    "    gdf_vecinos.plot(ax=ax, color='lightgreen', edgecolor='black', label='Vecinos')\n",
    "    \n",
    "    # Personalizar el gráfico\n",
    "    ax.set_title(f\"Estado: {estado} y sus vecinos\")\n",
    "    \n",
    "    # Mostrar el gráfico\n",
    "    plt.show()\n",
    "\n",
    "#plot_estado_y_vecinos('México', gdf_mexico, vecinos_dict)\n",
    "#plot_estado_y_vecinos('Campeche', gdf_mexico, vecinos_dict)\n",
    "#plot_estado_y_vecinos('Tamaulipas', gdf_mexico, vecinos_dict)\n",
    "#plot_estado_y_vecinos('Chihuahua', gdf_mexico, vecinos_dict)\n",
    "#plot_estado_y_vecinos('Oaxaca', gdf_mexico, vecinos_dict)"
   ]
  },
  {
   "cell_type": "markdown",
   "id": "9ac378fb-e60f-448e-b8d0-8b0a0157e04f",
   "metadata": {},
   "source": [
    "## Segundo\n",
    "### En cada grupo de estados vas a graficar las farmacias que se encuentran en el área, al igual que un círculo a su alrededor que tenga un radio de igual longitud que la distancia de esa farmacia a la siguiente farmacia más cercana."
   ]
  },
  {
   "cell_type": "code",
   "execution_count": 5,
   "id": "c1a54bec-8962-45d8-9243-71973837335b",
   "metadata": {},
   "outputs": [],
   "source": [
    "if gdf_mexico.crs != gdf_salud.crs:\n",
    "    gdf_salud = gdf_salud.to_crs(gdf_mexico.crs)"
   ]
  },
  {
   "cell_type": "code",
   "execution_count": 6,
   "id": "855c7c03-a311-468b-b958-c4f426092328",
   "metadata": {},
   "outputs": [],
   "source": [
    "from shapely.ops import unary_union\n",
    "import geopandas as gpd\n",
    "import matplotlib.pyplot as plt\n",
    "\n",
    "def plot_estado_y_vecinos_farmacias(estado, gdf, vecinos_dict):\n",
    "    # Obtener la geometría del estado de interés\n",
    "    estado_geom = gdf[gdf['NOMGEO'] == estado].geometry.iloc[0]\n",
    "    \n",
    "    # Obtener los vecinos del estado desde el diccionario\n",
    "    vecinos = vecinos_dict.get(estado, [])\n",
    "    \n",
    "    # Filtrar los estados vecinos\n",
    "    gdf_vecinos = gdf[gdf['NOMGEO'].isin(vecinos)]\n",
    "    \n",
    "    # Crear una figura y un eje para el gráfico\n",
    "    fig, ax = plt.subplots(figsize=(10, 10))\n",
    "    \n",
    "    # Graficar el estado de interés con un color especial (por ejemplo, en azul)\n",
    "    gdf[gdf['NOMGEO'] == estado].plot(ax=ax, color='lightblue', edgecolor='black', label=f'{estado}')\n",
    "    \n",
    "    # Graficar los estados vecinos con otro color (por ejemplo, en verde)\n",
    "    gdf_vecinos.plot(ax=ax, color='lightgreen', edgecolor='black', label='Vecinos')\n",
    "    \n",
    "    # Filtrar las farmacias que están en el estado de interés\n",
    "    gdf_farmacias_entidad = gdf_salud[gdf_salud['entidad'] == estado]\n",
    "    \n",
    "    # Inicializar geometría para los vecinos\n",
    "    geometrias_vecinos = list(gdf_farmacias_entidad.geometry)  # Comienza con las geometrías del estado\n",
    "    \n",
    "    # Añadir las geometrías de las farmacias en los vecinos\n",
    "    for est in vecinos:\n",
    "        geometrias_vecinos.extend(gdf_salud[gdf_salud['entidad'] == est].geometry)\n",
    "    \n",
    "    # Unir todas las geometrías\n",
    "    geometria_unida_vecinos = unary_union(geometrias_vecinos)\n",
    "    \n",
    "    # Crear un GeoDataFrame con la geometría unida\n",
    "    gdf_farmacias_vecinos = gpd.GeoDataFrame(geometry=[geometria_unida_vecinos])\n",
    "    \n",
    "    # Graficar las farmacias del estado sobre el mapa (en rojo)\n",
    "    gdf_farmacias_entidad.plot(ax=ax, color='red', markersize=10, label='Farmacias')\n",
    "    \n",
    "    # Graficar las farmacias de los vecinos (en naranja)\n",
    "    gdf_farmacias_vecinos.plot(ax=ax, color='orange', alpha=0.5, label='Farmacias Vecinas')\n",
    "    \n",
    "    # Personalizar el gráfico\n",
    "    ax.set_title(f\"Estado: {estado} y sus vecinos\")\n",
    "    plt.show()\n",
    "\n",
    "\n"
   ]
  },
  {
   "cell_type": "code",
   "execution_count": 7,
   "id": "473d9590-94ce-4a89-91e6-dc936e23f22f",
   "metadata": {},
   "outputs": [],
   "source": [
    "#plot_estado_y_vecinos_farmacias('México', gdf_mexico, vecinos_dict)\n",
    "#plot_estado_y_vecinos_farmacias('Campeche', gdf_mexico, vecinos_dict)\n",
    "#plot_estado_y_vecinos_farmacias('Tamaulipas', gdf_mexico, vecinos_dict)\n",
    "#plot_estado_y_vecinos_farmacias('Chihuahua', gdf_mexico, vecinos_dict)\n",
    "#plot_estado_y_vecinos_farmacias('Oaxaca', gdf_mexico, vecinos_dict)"
   ]
  },
  {
   "cell_type": "markdown",
   "id": "3b4e4c41-cdf5-42d1-b0ae-767edced074f",
   "metadata": {},
   "source": [
    "## Tercero\n",
    "### Por grupo de estados debes calcular cual es la farmacia que en promedio está más alejada de el resto de farmacios.\n",
    "### Debes graficar las distancias de esta farmacia al resto de las farmacias en el grupo de estados."
   ]
  },
  {
   "cell_type": "code",
   "execution_count": 8,
   "id": "74251a31-d544-4765-8659-0a3534d3f1e2",
   "metadata": {},
   "outputs": [],
   "source": [
    "def calcular_farmacia_mas_alejada_y_graficar(grupo_estados, gdf_salud):\n",
    "    # Filtrar las farmacias dentro del grupo de estados\n",
    "    gdf_farmacias_grupo = gdf_salud[gdf_salud['entidad'].isin(grupo_estados)]\n",
    "    \n",
    "    # Asegurarnos de que las geometrías estén en un CRS métrico (como UTM)\n",
    "    if gdf_farmacias_grupo.crs.to_string() != \"EPSG:32614\":  # Cambia 32614 por el UTM correspondiente\n",
    "        gdf_farmacias_grupo = gdf_farmacias_grupo.to_crs(\"EPSG:32614\")\n",
    "    \n",
    "    # Extraer las geometrías (puntos) de las farmacias\n",
    "    puntos_farmacias = gdf_farmacias_grupo.geometry\n",
    "    \n",
    "    # Calcular la distancia promedio de cada farmacia al resto\n",
    "    distancias_promedio = []\n",
    "    for i, punto_origen in enumerate(puntos_farmacias):\n",
    "        distancias = puntos_farmacias.apply(lambda punto_destino: punto_origen.distance(punto_destino))\n",
    "        distancias_promedio.append(distancias.mean())\n",
    "    \n",
    "    # Identificar la farmacia con la mayor distancia promedio\n",
    "    indice_mas_alejado = distancias_promedio.index(max(distancias_promedio))\n",
    "    farmacia_mas_alejada = puntos_farmacias.iloc[indice_mas_alejado]\n",
    "    \n",
    "    # Calcular las distancias de esta farmacia al resto\n",
    "    distancias_a_otros = puntos_farmacias.apply(lambda punto: farmacia_mas_alejada.distance(punto))\n",
    "    \n",
    "    # Graficar las distancias\n",
    "    plt.figure(figsize=(10, 6))\n",
    "    plt.bar(range(len(distancias_a_otros)), distancias_a_otros, color=\"blue\", alpha=0.7)\n",
    "    plt.title(f\"Distancias desde la farmacia más alejada al resto en el grupo de estados\")\n",
    "    plt.xlabel(\"Farmacias\")\n",
    "    plt.ylabel(\"Distancia (metros)\")\n",
    "    plt.show()"
   ]
  },
  {
   "cell_type": "code",
   "execution_count": 9,
   "id": "08bd3600-1b47-4842-aab0-7ae29cb0ca50",
   "metadata": {},
   "outputs": [
    {
     "name": "stderr",
     "output_type": "stream",
     "text": [
      "Exception ignored in: <bound method IPythonKernel._clean_thread_parent_frames of <ipykernel.ipkernel.IPythonKernel object at 0x7fef64c644f0>>\n",
      "Traceback (most recent call last):\n",
      "  File \"/usr/local/lib/python3.10/site-packages/ipykernel/ipkernel.py\", line 775, in _clean_thread_parent_frames\n",
      "    def _clean_thread_parent_frames(\n",
      "KeyboardInterrupt: \n"
     ]
    },
    {
     "ename": "KeyboardInterrupt",
     "evalue": "",
     "output_type": "error",
     "traceback": [
      "\u001b[0;31m---------------------------------------------------------------------------\u001b[0m",
      "\u001b[0;31mKeyboardInterrupt\u001b[0m                         Traceback (most recent call last)",
      "Cell \u001b[0;32mIn[9], line 2\u001b[0m\n\u001b[1;32m      1\u001b[0m grupo_estados \u001b[38;5;241m=\u001b[39m vecinos_dict[\u001b[38;5;124m'\u001b[39m\u001b[38;5;124mMéxico\u001b[39m\u001b[38;5;124m'\u001b[39m]  \u001b[38;5;66;03m# O el estado que desees analizar\u001b[39;00m\n\u001b[0;32m----> 2\u001b[0m \u001b[43mcalcular_farmacia_mas_alejada_y_graficar\u001b[49m\u001b[43m(\u001b[49m\u001b[43mgrupo_estados\u001b[49m\u001b[43m,\u001b[49m\u001b[43m \u001b[49m\u001b[43mgdf_salud\u001b[49m\u001b[43m)\u001b[49m\n",
      "Cell \u001b[0;32mIn[8], line 15\u001b[0m, in \u001b[0;36mcalcular_farmacia_mas_alejada_y_graficar\u001b[0;34m(grupo_estados, gdf_salud)\u001b[0m\n\u001b[1;32m     13\u001b[0m distancias_promedio \u001b[38;5;241m=\u001b[39m []\n\u001b[1;32m     14\u001b[0m \u001b[38;5;28;01mfor\u001b[39;00m i, punto_origen \u001b[38;5;129;01min\u001b[39;00m \u001b[38;5;28menumerate\u001b[39m(puntos_farmacias):\n\u001b[0;32m---> 15\u001b[0m     distancias \u001b[38;5;241m=\u001b[39m \u001b[43mpuntos_farmacias\u001b[49m\u001b[38;5;241;43m.\u001b[39;49m\u001b[43mapply\u001b[49m\u001b[43m(\u001b[49m\u001b[38;5;28;43;01mlambda\u001b[39;49;00m\u001b[43m \u001b[49m\u001b[43mpunto_destino\u001b[49m\u001b[43m:\u001b[49m\u001b[43m \u001b[49m\u001b[43mpunto_origen\u001b[49m\u001b[38;5;241;43m.\u001b[39;49m\u001b[43mdistance\u001b[49m\u001b[43m(\u001b[49m\u001b[43mpunto_destino\u001b[49m\u001b[43m)\u001b[49m\u001b[43m)\u001b[49m\n\u001b[1;32m     16\u001b[0m     distancias_promedio\u001b[38;5;241m.\u001b[39mappend(distancias\u001b[38;5;241m.\u001b[39mmean())\n\u001b[1;32m     18\u001b[0m \u001b[38;5;66;03m# Identificar la farmacia con la mayor distancia promedio\u001b[39;00m\n",
      "File \u001b[0;32m/usr/local/lib/python3.10/site-packages/geopandas/geoseries.py:624\u001b[0m, in \u001b[0;36mGeoSeries.apply\u001b[0;34m(self, func, convert_dtype, args, **kwargs)\u001b[0m\n\u001b[1;32m    622\u001b[0m \u001b[38;5;129m@doc\u001b[39m(pd\u001b[38;5;241m.\u001b[39mSeries)\n\u001b[1;32m    623\u001b[0m \u001b[38;5;28;01mdef\u001b[39;00m \u001b[38;5;21mapply\u001b[39m(\u001b[38;5;28mself\u001b[39m, func, convert_dtype\u001b[38;5;241m=\u001b[39m\u001b[38;5;28;01mTrue\u001b[39;00m, args\u001b[38;5;241m=\u001b[39m(), \u001b[38;5;241m*\u001b[39m\u001b[38;5;241m*\u001b[39mkwargs):\n\u001b[0;32m--> 624\u001b[0m     result \u001b[38;5;241m=\u001b[39m \u001b[38;5;28;43msuper\u001b[39;49m\u001b[43m(\u001b[49m\u001b[43m)\u001b[49m\u001b[38;5;241;43m.\u001b[39;49m\u001b[43mapply\u001b[49m\u001b[43m(\u001b[49m\u001b[43mfunc\u001b[49m\u001b[43m,\u001b[49m\u001b[43m \u001b[49m\u001b[43mconvert_dtype\u001b[49m\u001b[38;5;241;43m=\u001b[39;49m\u001b[43mconvert_dtype\u001b[49m\u001b[43m,\u001b[49m\u001b[43m \u001b[49m\u001b[43margs\u001b[49m\u001b[38;5;241;43m=\u001b[39;49m\u001b[43margs\u001b[49m\u001b[43m,\u001b[49m\u001b[43m \u001b[49m\u001b[38;5;241;43m*\u001b[39;49m\u001b[38;5;241;43m*\u001b[39;49m\u001b[43mkwargs\u001b[49m\u001b[43m)\u001b[49m\n\u001b[1;32m    625\u001b[0m     \u001b[38;5;28;01mif\u001b[39;00m \u001b[38;5;28misinstance\u001b[39m(result, GeoSeries):\n\u001b[1;32m    626\u001b[0m         \u001b[38;5;28;01mif\u001b[39;00m \u001b[38;5;28mself\u001b[39m\u001b[38;5;241m.\u001b[39mcrs \u001b[38;5;129;01mis\u001b[39;00m \u001b[38;5;129;01mnot\u001b[39;00m \u001b[38;5;28;01mNone\u001b[39;00m:\n",
      "File \u001b[0;32m/usr/local/lib/python3.10/site-packages/pandas/core/series.py:4630\u001b[0m, in \u001b[0;36mSeries.apply\u001b[0;34m(self, func, convert_dtype, args, **kwargs)\u001b[0m\n\u001b[1;32m   4520\u001b[0m \u001b[38;5;28;01mdef\u001b[39;00m \u001b[38;5;21mapply\u001b[39m(\n\u001b[1;32m   4521\u001b[0m     \u001b[38;5;28mself\u001b[39m,\n\u001b[1;32m   4522\u001b[0m     func: AggFuncType,\n\u001b[0;32m   (...)\u001b[0m\n\u001b[1;32m   4525\u001b[0m     \u001b[38;5;241m*\u001b[39m\u001b[38;5;241m*\u001b[39mkwargs,\n\u001b[1;32m   4526\u001b[0m ) \u001b[38;5;241m-\u001b[39m\u001b[38;5;241m>\u001b[39m DataFrame \u001b[38;5;241m|\u001b[39m Series:\n\u001b[1;32m   4527\u001b[0m \u001b[38;5;250m    \u001b[39m\u001b[38;5;124;03m\"\"\"\u001b[39;00m\n\u001b[1;32m   4528\u001b[0m \u001b[38;5;124;03m    Invoke function on values of Series.\u001b[39;00m\n\u001b[1;32m   4529\u001b[0m \n\u001b[0;32m   (...)\u001b[0m\n\u001b[1;32m   4628\u001b[0m \u001b[38;5;124;03m    dtype: float64\u001b[39;00m\n\u001b[1;32m   4629\u001b[0m \u001b[38;5;124;03m    \"\"\"\u001b[39;00m\n\u001b[0;32m-> 4630\u001b[0m     \u001b[38;5;28;01mreturn\u001b[39;00m \u001b[43mSeriesApply\u001b[49m\u001b[43m(\u001b[49m\u001b[38;5;28;43mself\u001b[39;49m\u001b[43m,\u001b[49m\u001b[43m \u001b[49m\u001b[43mfunc\u001b[49m\u001b[43m,\u001b[49m\u001b[43m \u001b[49m\u001b[43mconvert_dtype\u001b[49m\u001b[43m,\u001b[49m\u001b[43m \u001b[49m\u001b[43margs\u001b[49m\u001b[43m,\u001b[49m\u001b[43m \u001b[49m\u001b[43mkwargs\u001b[49m\u001b[43m)\u001b[49m\u001b[38;5;241;43m.\u001b[39;49m\u001b[43mapply\u001b[49m\u001b[43m(\u001b[49m\u001b[43m)\u001b[49m\n",
      "File \u001b[0;32m/usr/local/lib/python3.10/site-packages/pandas/core/apply.py:1025\u001b[0m, in \u001b[0;36mSeriesApply.apply\u001b[0;34m(self)\u001b[0m\n\u001b[1;32m   1022\u001b[0m     \u001b[38;5;28;01mreturn\u001b[39;00m \u001b[38;5;28mself\u001b[39m\u001b[38;5;241m.\u001b[39mapply_str()\n\u001b[1;32m   1024\u001b[0m \u001b[38;5;66;03m# self.f is Callable\u001b[39;00m\n\u001b[0;32m-> 1025\u001b[0m \u001b[38;5;28;01mreturn\u001b[39;00m \u001b[38;5;28;43mself\u001b[39;49m\u001b[38;5;241;43m.\u001b[39;49m\u001b[43mapply_standard\u001b[49m\u001b[43m(\u001b[49m\u001b[43m)\u001b[49m\n",
      "File \u001b[0;32m/usr/local/lib/python3.10/site-packages/pandas/core/apply.py:1076\u001b[0m, in \u001b[0;36mSeriesApply.apply_standard\u001b[0;34m(self)\u001b[0m\n\u001b[1;32m   1074\u001b[0m     \u001b[38;5;28;01melse\u001b[39;00m:\n\u001b[1;32m   1075\u001b[0m         values \u001b[38;5;241m=\u001b[39m obj\u001b[38;5;241m.\u001b[39mastype(\u001b[38;5;28mobject\u001b[39m)\u001b[38;5;241m.\u001b[39m_values\n\u001b[0;32m-> 1076\u001b[0m         mapped \u001b[38;5;241m=\u001b[39m \u001b[43mlib\u001b[49m\u001b[38;5;241;43m.\u001b[39;49m\u001b[43mmap_infer\u001b[49m\u001b[43m(\u001b[49m\n\u001b[1;32m   1077\u001b[0m \u001b[43m            \u001b[49m\u001b[43mvalues\u001b[49m\u001b[43m,\u001b[49m\n\u001b[1;32m   1078\u001b[0m \u001b[43m            \u001b[49m\u001b[43mf\u001b[49m\u001b[43m,\u001b[49m\n\u001b[1;32m   1079\u001b[0m \u001b[43m            \u001b[49m\u001b[43mconvert\u001b[49m\u001b[38;5;241;43m=\u001b[39;49m\u001b[38;5;28;43mself\u001b[39;49m\u001b[38;5;241;43m.\u001b[39;49m\u001b[43mconvert_dtype\u001b[49m\u001b[43m,\u001b[49m\n\u001b[1;32m   1080\u001b[0m \u001b[43m        \u001b[49m\u001b[43m)\u001b[49m\n\u001b[1;32m   1082\u001b[0m \u001b[38;5;28;01mif\u001b[39;00m \u001b[38;5;28mlen\u001b[39m(mapped) \u001b[38;5;129;01mand\u001b[39;00m \u001b[38;5;28misinstance\u001b[39m(mapped[\u001b[38;5;241m0\u001b[39m], ABCSeries):\n\u001b[1;32m   1083\u001b[0m     \u001b[38;5;66;03m# GH#43986 Need to do list(mapped) in order to get treated as nested\u001b[39;00m\n\u001b[1;32m   1084\u001b[0m     \u001b[38;5;66;03m#  See also GH#25959 regarding EA support\u001b[39;00m\n\u001b[1;32m   1085\u001b[0m     \u001b[38;5;28;01mreturn\u001b[39;00m obj\u001b[38;5;241m.\u001b[39m_constructor_expanddim(\u001b[38;5;28mlist\u001b[39m(mapped), index\u001b[38;5;241m=\u001b[39mobj\u001b[38;5;241m.\u001b[39mindex)\n",
      "File \u001b[0;32m/usr/local/lib/python3.10/site-packages/pandas/_libs/lib.pyx:2834\u001b[0m, in \u001b[0;36mpandas._libs.lib.map_infer\u001b[0;34m()\u001b[0m\n",
      "Cell \u001b[0;32mIn[8], line 15\u001b[0m, in \u001b[0;36mcalcular_farmacia_mas_alejada_y_graficar.<locals>.<lambda>\u001b[0;34m(punto_destino)\u001b[0m\n\u001b[1;32m     13\u001b[0m distancias_promedio \u001b[38;5;241m=\u001b[39m []\n\u001b[1;32m     14\u001b[0m \u001b[38;5;28;01mfor\u001b[39;00m i, punto_origen \u001b[38;5;129;01min\u001b[39;00m \u001b[38;5;28menumerate\u001b[39m(puntos_farmacias):\n\u001b[0;32m---> 15\u001b[0m     distancias \u001b[38;5;241m=\u001b[39m puntos_farmacias\u001b[38;5;241m.\u001b[39mapply(\u001b[38;5;28;01mlambda\u001b[39;00m punto_destino: \u001b[43mpunto_origen\u001b[49m\u001b[38;5;241;43m.\u001b[39;49m\u001b[43mdistance\u001b[49m\u001b[43m(\u001b[49m\u001b[43mpunto_destino\u001b[49m\u001b[43m)\u001b[49m)\n\u001b[1;32m     16\u001b[0m     distancias_promedio\u001b[38;5;241m.\u001b[39mappend(distancias\u001b[38;5;241m.\u001b[39mmean())\n\u001b[1;32m     18\u001b[0m \u001b[38;5;66;03m# Identificar la farmacia con la mayor distancia promedio\u001b[39;00m\n",
      "File \u001b[0;32m/usr/local/lib/python3.10/site-packages/shapely/geometry/base.py:440\u001b[0m, in \u001b[0;36mBaseGeometry.distance\u001b[0;34m(self, other)\u001b[0m\n\u001b[1;32m    438\u001b[0m \u001b[38;5;28;01mdef\u001b[39;00m \u001b[38;5;21mdistance\u001b[39m(\u001b[38;5;28mself\u001b[39m, other):\n\u001b[1;32m    439\u001b[0m \u001b[38;5;250m    \u001b[39m\u001b[38;5;124;03m\"\"\"Unitless distance to other geometry (float)\"\"\"\u001b[39;00m\n\u001b[0;32m--> 440\u001b[0m     \u001b[38;5;28;01mreturn\u001b[39;00m \u001b[38;5;28;43mself\u001b[39;49m\u001b[38;5;241;43m.\u001b[39;49m\u001b[43mimpl\u001b[49m\u001b[43m[\u001b[49m\u001b[38;5;124;43m'\u001b[39;49m\u001b[38;5;124;43mdistance\u001b[39;49m\u001b[38;5;124;43m'\u001b[39;49m\u001b[43m]\u001b[49m\u001b[43m(\u001b[49m\u001b[38;5;28;43mself\u001b[39;49m\u001b[43m,\u001b[49m\u001b[43m \u001b[49m\u001b[43mother\u001b[49m\u001b[43m)\u001b[49m\n",
      "File \u001b[0;32m/usr/local/lib/python3.10/site-packages/shapely/topology.py:48\u001b[0m, in \u001b[0;36mBinaryRealProperty.__call__\u001b[0;34m(self, this, other)\u001b[0m\n\u001b[1;32m     46\u001b[0m \u001b[38;5;28;01mdef\u001b[39;00m \u001b[38;5;21m__call__\u001b[39m(\u001b[38;5;28mself\u001b[39m, this, other):\n\u001b[1;32m     47\u001b[0m     \u001b[38;5;28mself\u001b[39m\u001b[38;5;241m.\u001b[39m_validate(this)\n\u001b[0;32m---> 48\u001b[0m     \u001b[38;5;28;43mself\u001b[39;49m\u001b[38;5;241;43m.\u001b[39;49m\u001b[43m_validate\u001b[49m\u001b[43m(\u001b[49m\u001b[43mother\u001b[49m\u001b[43m,\u001b[49m\u001b[43m \u001b[49m\u001b[43mstop_prepared\u001b[49m\u001b[38;5;241;43m=\u001b[39;49m\u001b[38;5;28;43;01mTrue\u001b[39;49;00m\u001b[43m)\u001b[49m\n\u001b[1;32m     49\u001b[0m     d \u001b[38;5;241m=\u001b[39m c_double()\n\u001b[1;32m     50\u001b[0m     retval \u001b[38;5;241m=\u001b[39m \u001b[38;5;28mself\u001b[39m\u001b[38;5;241m.\u001b[39mfn(this\u001b[38;5;241m.\u001b[39m_geom, other\u001b[38;5;241m.\u001b[39m_geom, byref(d))\n",
      "File \u001b[0;32m/usr/local/lib/python3.10/site-packages/shapely/topology.py:17\u001b[0m, in \u001b[0;36mValidating._validate\u001b[0;34m(self, ob, stop_prepared)\u001b[0m\n\u001b[1;32m     15\u001b[0m \u001b[38;5;28;01mclass\u001b[39;00m \u001b[38;5;21;01mValidating\u001b[39;00m:\n\u001b[0;32m---> 17\u001b[0m     \u001b[38;5;28;01mdef\u001b[39;00m \u001b[38;5;21m_validate\u001b[39m(\u001b[38;5;28mself\u001b[39m, ob, stop_prepared\u001b[38;5;241m=\u001b[39m\u001b[38;5;28;01mFalse\u001b[39;00m):\n\u001b[1;32m     18\u001b[0m         \u001b[38;5;28;01mif\u001b[39;00m ob \u001b[38;5;129;01mis\u001b[39;00m \u001b[38;5;28;01mNone\u001b[39;00m \u001b[38;5;129;01mor\u001b[39;00m ob\u001b[38;5;241m.\u001b[39m_geom \u001b[38;5;129;01mis\u001b[39;00m \u001b[38;5;28;01mNone\u001b[39;00m:\n\u001b[1;32m     19\u001b[0m             \u001b[38;5;28;01mraise\u001b[39;00m InvalidGeometryError(\u001b[38;5;124m\"\u001b[39m\u001b[38;5;124mNull geometry supports no operations\u001b[39m\u001b[38;5;124m\"\u001b[39m)\n",
      "\u001b[0;31mKeyboardInterrupt\u001b[0m: "
     ]
    }
   ],
   "source": [
    "grupo_estados = vecinos_dict['México']  # O el estado que desees analizar\n",
    "calcular_farmacia_mas_alejada_y_graficar(grupo_estados, gdf_salud)\n"
   ]
  },
  {
   "cell_type": "markdown",
   "id": "47bc707e-f9da-43fc-916f-32a56b657108",
   "metadata": {},
   "source": [
    "## Cuarto\n",
    "### Calcula cual es el grupo de estados con mayor distancia promedio entre sus farmacias.\n",
    "### Luego grafica el país completo con el shapefile de estados y grafica el grupo de estados con mayor distancia promedio entre farmacias de un color distinto."
   ]
  },
  {
   "cell_type": "code",
   "execution_count": null,
   "id": "6f2cf8e1-71a9-4fe0-a9e4-7a4e0e7a6d85",
   "metadata": {},
   "outputs": [],
   "source": [
    "def calcular_grupo_mayor_distancia_promedio(vecinos_dict, gdf_salud):\n",
    "    # Inicializar variables para almacenar resultados\n",
    "    max_distancia_promedio = 0\n",
    "    grupo_con_max_distancia = None\n",
    "\n",
    "    # Iterar por cada grupo de vecinos\n",
    "    for estado, grupo_estados in vecinos_dict.items():\n",
    "        # Incluir el estado mismo en su grupo\n",
    "        grupo_estados = [estado] + grupo_estados\n",
    "        \n",
    "        # Filtrar las farmacias del grupo de estados\n",
    "        gdf_farmacias_grupo = gdf_salud[gdf_salud['entidad'].isin(grupo_estados)]\n",
    "        \n",
    "        # Asegurarnos de que las geometrías estén en un CRS métrico\n",
    "        if gdf_farmacias_grupo.crs.to_string() != \"EPSG:32614\":  # Cambia 32614 según el CRS métrico correspondiente\n",
    "            gdf_farmacias_grupo = gdf_farmacias_grupo.to_crs(\"EPSG:32614\")\n",
    "        \n",
    "        # Extraer las geometrías de las farmacias\n",
    "        puntos_farmacias = gdf_farmacias_grupo.geometry\n",
    "        \n",
    "        # Calcular la distancia promedio entre las farmacias del grupo\n",
    "        distancias_promedio = []\n",
    "        for punto_origen in puntos_farmacias:\n",
    "            distancias = puntos_farmacias.apply(lambda punto_destino: punto_origen.distance(punto_destino))\n",
    "            distancias_promedio.append(distancias.mean())\n",
    "        \n",
    "        # Promediar las distancias promedio de cada farmacia\n",
    "        distancia_promedio_grupo = np.mean(distancias_promedio)\n",
    "        \n",
    "        # Actualizar si este grupo tiene mayor distancia promedio\n",
    "        if distancia_promedio_grupo > max_distancia_promedio:\n",
    "            max_distancia_promedio = distancia_promedio_grupo\n",
    "            grupo_con_max_distancia = grupo_estados\n",
    "\n",
    "    return grupo_con_max_distancia, max_distancia_promedio\n",
    "\n",
    "def graficar_pais_con_grupo(gdf_mexico, grupo_estados):\n",
    "    # Crear figura y eje\n",
    "    fig, ax = plt.subplots(figsize=(15, 15))\n",
    "    \n",
    "    # Graficar todos los estados en un color base\n",
    "    gdf_mexico.plot(ax=ax, color='lightgrey', edgecolor='black', label='Otros estados')\n",
    "    \n",
    "    # Graficar los estados del grupo destacado\n",
    "    gdf_grupo = gdf_mexico[gdf_mexico['NOMGEO'].isin(grupo_estados)]\n",
    "    gdf_grupo.plot(ax=ax, color='lightblue', edgecolor='black', label='Grupo destacado')\n",
    "    \n",
    "    # Añadir título y leyenda\n",
    "    ax.set_title('Mapa de México con el grupo de estados destacado', fontsize=16)\n",
    "    ax.legend()\n",
    "    \n",
    "    # Mostrar el gráfico\n",
    "    plt.show()\n",
    "    \n",
    "# Calcular el grupo con mayor distancia promedio entre farmacias\n",
    "grupo_mayor_distancia, distancia_promedio = calcular_grupo_mayor_distancia_promedio(vecinos_dict, gdf_salud)\n",
    "\n",
    "print(f\"Grupo con mayor distancia promedio entre farmacias: {grupo_mayor_distancia}\")\n",
    "print(f\"Distancia promedio: {distancia_promedio} metros\")\n",
    "\n",
    "# Graficar el país destacando el grupo con mayor distancia promedio\n",
    "graficar_pais_con_grupo(gdf_mexico, grupo_mayor_distancia)\n"
   ]
  },
  {
   "cell_type": "code",
   "execution_count": null,
   "id": "082d4112-2cd9-4d6f-8ee0-0ebdd68acc1e",
   "metadata": {},
   "outputs": [],
   "source": []
  }
 ],
 "metadata": {
  "kernelspec": {
   "display_name": "Python 3 (ipykernel)",
   "language": "python",
   "name": "python3"
  },
  "language_info": {
   "codemirror_mode": {
    "name": "ipython",
    "version": 3
   },
   "file_extension": ".py",
   "mimetype": "text/x-python",
   "name": "python",
   "nbconvert_exporter": "python",
   "pygments_lexer": "ipython3",
   "version": "3.10.15"
  }
 },
 "nbformat": 4,
 "nbformat_minor": 5
}
