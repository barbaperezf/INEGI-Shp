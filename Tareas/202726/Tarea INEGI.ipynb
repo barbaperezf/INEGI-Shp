{
 "cells": [
  {
   "cell_type": "markdown",
   "id": "c0ec7815-0032-40a3-a767-34be36210b75",
   "metadata": {},
   "source": [
    "## Tarea\n",
    "Va a consistir de 4 pasos basados en lo que aprendimos de como manipular los INEGI shape files."
   ]
  },
  {
   "cell_type": "markdown",
   "id": "dd60593c-eae0-410d-b74d-2f3896ed3d26",
   "metadata": {},
   "source": [
    "## Primero\n",
    "#### Vas a escoger 5 estados y vas a graficar sus vecinos como vimos en el otro archivo. A cada uno de estos grupos los llamaremos grupos de estados.\n",
    "#### Usa el shapefile de los estados\n"
   ]
  },
  {
   "cell_type": "code",
   "execution_count": null,
   "id": "bc305dd6",
   "metadata": {},
   "outputs": [
    {
     "ename": "ModuleNotFoundError",
     "evalue": "No module named 'geopandas'",
     "output_type": "error",
     "traceback": [
      "\u001b[1;31m---------------------------------------------------------------------------\u001b[0m",
      "\u001b[1;31mModuleNotFoundError\u001b[0m                       Traceback (most recent call last)",
      "Cell \u001b[1;32mIn[1], line 1\u001b[0m\n\u001b[1;32m----> 1\u001b[0m \u001b[38;5;28;01mimport\u001b[39;00m \u001b[38;5;21;01mgeopandas\u001b[39;00m \u001b[38;5;28;01mas\u001b[39;00m \u001b[38;5;21;01mgpd\u001b[39;00m\n\u001b[0;32m      2\u001b[0m \u001b[38;5;28;01mimport\u001b[39;00m \u001b[38;5;21;01mmatplotlib\u001b[39;00m\u001b[38;5;21;01m.\u001b[39;00m\u001b[38;5;21;01mpyplot\u001b[39;00m \u001b[38;5;28;01mas\u001b[39;00m \u001b[38;5;21;01mplt\u001b[39;00m\n\u001b[0;32m      3\u001b[0m \u001b[38;5;28;01mimport\u001b[39;00m \u001b[38;5;21;01mgeopandas\u001b[39;00m \u001b[38;5;28;01mas\u001b[39;00m \u001b[38;5;21;01mgpd\u001b[39;00m\n",
      "\u001b[1;31mModuleNotFoundError\u001b[0m: No module named 'geopandas'"
     ]
    }
   ],
   "source": [
    "import geopandas as gpd\n",
    "import pandas as pd\n",
    "import matplotlib.pyplot as plt\n",
    "from shapely.geometry import Point\n",
    "from scipy.spatial import cKDTree\n",
    "from scipy.spatial.distance import cdist\n",
    "import numpy as np"
   ]
  },
  {
   "cell_type": "code",
   "execution_count": null,
   "id": "f16ac83e",
   "metadata": {},
   "outputs": [],
   "source": [
    "\n",
    "shapefile_path = 'ShapeFilesFiles/Estados/conjunto_de_datos/00ent.shp'\n",
    "farmacias_path = 'ShapeFilesFiles/conjunto_de_datos/denue_inegi_62_.shp'\n",
    "estados_seleccionados = [\"Puebla\", \"Sonora\", \"Michoacan\", \"Veracruz\", \"Ciudad de Mexico\"]\n",
    "\n",
    "estados = gpd.read_file(shapefile_path)\n",
    "farmacias = gpd.read_file(farmacias_path)"
   ]
  },
  {
   "cell_type": "code",
   "execution_count": null,
   "id": "a933c77e-face-46f0-ae5e-73dfa92daabb",
   "metadata": {},
   "outputs": [],
   "source": [
    "grupos_estados = estados[estados[\"NOM_ENT\"].isin(estados_seleccionados)]\n",
    "\n",
    "def obtener_vecinos(estado, geodataframe):\n",
    "    \"\"\"\n",
    "    Dado un estado y un GeoDataFrame, encuentra los estados vecinos.\n",
    "    \"\"\"\n",
    "    geometria_estado = geodataframe[geodataframe[\"NOM_ENT\"] == estado].geometry.iloc[0]\n",
    "    vecinos = geodataframe[geodataframe.geometry.touches(geometria_estado)]\n",
    "    return vecinos\n",
    "\n",
    "vecinos_dict = {}\n",
    "for estado in estados_seleccionados:\n",
    "    vecinos = obtener_vecinos(estado, estados)\n",
    "    vecinos_dict[estado] = vecinos\n",
    "\n",
    "fig, ax = plt.subplots(1, 1, figsize=(12, 10))\n",
    "estados.plot(ax=ax, color=\"lightgrey\", edgecolor=\"black\")\n",
    "colors = [\"red\", \"blue\", \"green\", \"purple\", \"orange\"]\n",
    "\n",
    "for i, estado in enumerate(estados_seleccionados):\n",
    "    grupo = vecinos_dict[estado] \n",
    "    grupo.plot(ax=ax, color=colors[i], label=f\"Vecinos de {estado}\")\n",
    "    estados[estados[\"NOM_ENT\"] == estado].plot(ax=ax, color=\"yellow\")  \n",
    "\n",
    "plt.legend()\n",
    "plt.title(\"Grupos de Estados y sus Vecinos\")\n",
    "plt.show()\n"
   ]
  },
  {
   "cell_type": "markdown",
   "id": "9ac378fb-e60f-448e-b8d0-8b0a0157e04f",
   "metadata": {},
   "source": [
    "## Segundo\n",
    "### En cada grupo de estados vas a graficar las farmacias que se encuentran en el área, al igual que un círculo a su alrededor que tenga un radio de igual longitud que la distancia de esa farmacia a la siguiente farmacia más cercana."
   ]
  },
  {
   "cell_type": "code",
   "execution_count": null,
   "id": "855c7c03-a311-468b-b958-c4f426092328",
   "metadata": {},
   "outputs": [],
   "source": [
    "grupos_estados = estados[estados[\"NOM_ENT\"].isin(estados_seleccionados)]\n",
    "\n",
    "farmacias_gdf = gpd.GeoDataFrame(\n",
    "    farmacias,\n",
    "    geometry=gpd.points_from_xy(farmacias.longitud, farmacias.latitud),\n",
    "    crs=\"EPSG:4326\"  \n",
    ")\n",
    "\n",
    "farmacias_en_grupos = farmacias_gdf[farmacias_gdf.geometry.within(grupos_estados.unary_union)]\n",
    "farmacias_en_grupos = farmacias_en_grupos.to_crs(epsg=3857)\n",
    "coords = np.array([(geom.x, geom.y) for geom in farmacias_en_grupos.geometry])\n",
    "tree = cKDTree(coords)\n",
    "distancias, indices = tree.query(coords, k=2)  \n",
    "radios = distancias[:, 1]  \n",
    "fig, ax = plt.subplots(1, 1, figsize=(12, 10))\n",
    "grupos_estados.plot(ax=ax, color=\"lightgrey\", edgecolor=\"black\")\n",
    "\n",
    "for i, farmacia in farmacias_en_grupos.iterrows():\n",
    "    x, y = farmacia.geometry.x, farmacia.geometry.y\n",
    "    ax.scatter(x, y, color=\"red\", label=\"Farmacia\" if i == 0 else \"\")\n",
    "    circle = plt.Circle((x, y), radios[i], color=\"blue\", fill=False, alpha=0.5)\n",
    "    ax.add_artist(circle)\n",
    "\n",
    "plt.title(\"Farmacias y Círculos Basados en la Distancia Más Cercana\")\n",
    "plt.show()\n"
   ]
  },
  {
   "cell_type": "markdown",
   "id": "3b4e4c41-cdf5-42d1-b0ae-767edced074f",
   "metadata": {},
   "source": [
    "## Tercero\n",
    "### Por grupo de estados debes calcular cual es la farmacia que en promedio está más alejada de el resto de farmacios.\n",
    "### Debes graficar las distancias de esta farmacia al resto de las farmacias en el grupo de estados."
   ]
  },
  {
   "cell_type": "code",
   "execution_count": null,
   "id": "74251a31-d544-4765-8659-0a3534d3f1e2",
   "metadata": {},
   "outputs": [],
   "source": [
    "farmacias_por_estado = {}\n",
    "grupos_estados_geom = grupos_estados.geometry\n",
    "\n",
    "\n",
    "for estado in estados_seleccionados:\n",
    "    estado_geom = grupos_estados_geom[grupos_estados[\"NOM_ENT\"] == estado].iloc[0]\n",
    "    farmacias_en_estado = farmacias_en_grupos[farmacias_en_grupos.geometry.within(estado_geom)]\n",
    "    farmacias_por_estado[estado] = farmacias_en_estado\n",
    "\n",
    "for estado, farmacias_en_estado in farmacias_por_estado.items():\n",
    "    if farmacias_en_estado.empty:\n",
    "        print(f\"No hay farmacias en el grupo de {estado}.\")\n",
    "        continue\n",
    "    \n",
    "    \n",
    "    coords = np.array([(geom.x, geom.y) for geom in farmacias_en_estado.geometry])\n",
    "    distancia_matrix = cdist(coords, coords)\n",
    "    distancias_promedio = np.mean(distancia_matrix, axis=1)\n",
    "    index_max = np.argmax(distancias_promedio)\n",
    "    farmacia_central = farmacias_en_estado.iloc[index_max]\n",
    "    distancias_central = distancia_matrix[index_max]\n",
    "    \n",
    "    plt.figure(figsize=(10, 6))\n",
    "    plt.bar(range(len(distancias_central)), distancias_central, color=\"blue\", alpha=0.7)\n",
    "    plt.xlabel(\"Farmacias\")\n",
    "    plt.ylabel(\"Distancia (metros)\")\n",
    "    plt.title(f\"Distancias de la Farmacia con Mayor Promedio en {estado}\")\n",
    "    plt.xticks(range(len(distancias_central)), [f\"Farmacia {i}\" for i in range(len(distancias_central))], rotation=45)\n",
    "    plt.tight_layout()\n",
    "    plt.show()\n",
    "    \n",
    "    print(f\"En {estado}, la farmacia con mayor promedio de distancia está en las coordenadas: {farmacia_central.geometry.x}, {farmacia_central.geometry.y}.\")\n"
   ]
  },
  {
   "cell_type": "markdown",
   "id": "47bc707e-f9da-43fc-916f-32a56b657108",
   "metadata": {},
   "source": [
    "## Cuarto\n",
    "### Calcula cual es el grupo de estados con mayor distancia promedio entre sus farmacias.\n",
    "### Luego grafica el país completo con el shapefile de estados y grafica el grupo de estados con mayor distancia promedio entre farmacias de un color distinto."
   ]
  },
  {
   "cell_type": "code",
   "execution_count": null,
   "id": "6f2cf8e1-71a9-4fe0-a9e4-7a4e0e7a6d85",
   "metadata": {},
   "outputs": [],
   "source": [
    "distancia_promedio_grupo = {}\n",
    "\n",
    "for estado, farmacias_en_estado in farmacias_por_estado.items():\n",
    "    if farmacias_en_estado.empty:\n",
    "        print(f\"No hay farmacias en el grupo de {estado}.\")\n",
    "        distancia_promedio_grupo[estado] = 0\n",
    "        continue\n",
    "    \n",
    "    coords = np.array([(geom.x, geom.y) for geom in farmacias_en_estado.geometry])\n",
    "    distancia_matrix = cdist(coords, coords)\n",
    "    promedio_distancia = np.mean(distancia_matrix)\n",
    "    distancia_promedio_grupo[estado] = promedio_distancia\n",
    "\n",
    "grupo_max_distancia = max(distancia_promedio_grupo, key=distancia_promedio_grupo.get)\n",
    "print(f\"El grupo con mayor distancia promedio es: {grupo_max_distancia} con una distancia promedio de {distancia_promedio_grupo[grupo_max_distancia]} metros.\")\n",
    "\n",
    "grupo_geom = grupos_estados[grupos_estados[\"NOM_ENT\"] == grupo_max_distancia]\n",
    "fig, ax = plt.subplots(1, 1, figsize=(12, 10))\n",
    "estados.plot(ax=ax, color=\"lightgrey\", edgecolor=\"black\")\n",
    "grupo_geom.plot(ax=ax, color=\"red\", edgecolor=\"black\", label=f\"Grupo {grupo_max_distancia}\")\n",
    "\n",
    "plt.title(\"Grupo de Estados con Mayor Distancia Promedio entre Farmacias\")\n",
    "plt.legend()\n",
    "plt.show()\n"
   ]
  }
 ],
 "metadata": {
  "kernelspec": {
   "display_name": "Python 3",
   "language": "python",
   "name": "python3"
  },
  "language_info": {
   "codemirror_mode": {
    "name": "ipython",
    "version": 3
   },
   "file_extension": ".py",
   "mimetype": "text/x-python",
   "name": "python",
   "nbconvert_exporter": "python",
   "pygments_lexer": "ipython3",
   "version": "3.12.6"
  }
 },
 "nbformat": 4,
 "nbformat_minor": 5
}
