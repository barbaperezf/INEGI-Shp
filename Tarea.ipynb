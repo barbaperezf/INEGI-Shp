{
 "cells": [
  {
   "cell_type": "markdown",
   "id": "c0ec7815-0032-40a3-a767-34be36210b75",
   "metadata": {},
   "source": [
    "## Tarea\n",
    "Va a consistir de 4 pasos basados en lo que aprendimos de como manipular los INEGI shape files."
   ]
  },
  {
   "cell_type": "markdown",
   "id": "dd60593c-eae0-410d-b74d-2f3896ed3d26",
   "metadata": {},
   "source": [
    "## Primero\n",
    "#### Vas a escoger 5 estados y vas a graficar sus vecinos como vimos en el otro archivo. A cada uno de estos grupos los llamaremos grupos de estados.\n",
    "#### Usa el shapefile de los estados\n"
   ]
  },
  {
   "cell_type": "code",
   "execution_count": null,
   "id": "a933c77e-face-46f0-ae5e-73dfa92daabb",
   "metadata": {},
   "outputs": [],
   "source": []
  },
  {
   "cell_type": "markdown",
   "id": "9ac378fb-e60f-448e-b8d0-8b0a0157e04f",
   "metadata": {},
   "source": [
    "## Segundo\n",
    "### En cada grupo de estados vas a graficar las farmacias que se encuentran en el área, al igual que un círculo a su alrededor que tenga un radio de igual longitud que la distancia de esa farmacia a la siguiente farmacia más cercana."
   ]
  },
  {
   "cell_type": "code",
   "execution_count": null,
   "id": "855c7c03-a311-468b-b958-c4f426092328",
   "metadata": {},
   "outputs": [],
   "source": []
  },
  {
   "cell_type": "markdown",
   "id": "3b4e4c41-cdf5-42d1-b0ae-767edced074f",
   "metadata": {},
   "source": [
    "## Tercero\n",
    "### Por grupo de estados debes calcular cual es la farmacia que en promedio está más alejada de el resto de farmacios.\n",
    "### Debes graficar las distancias de esta farmacia al resto de las farmacias en el grupo de estados."
   ]
  },
  {
   "cell_type": "code",
   "execution_count": null,
   "id": "74251a31-d544-4765-8659-0a3534d3f1e2",
   "metadata": {},
   "outputs": [],
   "source": []
  },
  {
   "cell_type": "markdown",
   "id": "47bc707e-f9da-43fc-916f-32a56b657108",
   "metadata": {},
   "source": [
    "## Cuarto\n",
    "### Calcula cual es el grupo de estados con mayor distancia promedio entre sus farmacias.\n",
    "### Luego grafica el país completo con el shapefile de estados y grafica el grupo de estados con mayor distancia promedio entre farmacias de un color distinto."
   ]
  },
  {
   "cell_type": "code",
   "execution_count": null,
   "id": "6f2cf8e1-71a9-4fe0-a9e4-7a4e0e7a6d85",
   "metadata": {},
   "outputs": [],
   "source": []
  }
 ],
 "metadata": {
  "kernelspec": {
   "display_name": "Python 3 (ipykernel)",
   "language": "python",
   "name": "python3"
  },
  "language_info": {
   "codemirror_mode": {
    "name": "ipython",
    "version": 3
   },
   "file_extension": ".py",
   "mimetype": "text/x-python",
   "name": "python",
   "nbconvert_exporter": "python",
   "pygments_lexer": "ipython3",
   "version": "3.10.15"
  }
 },
 "nbformat": 4,
 "nbformat_minor": 5
}
